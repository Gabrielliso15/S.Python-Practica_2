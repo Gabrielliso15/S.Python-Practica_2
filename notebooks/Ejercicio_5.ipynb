{
 "cells": [
  {
   "cell_type": "code",
   "execution_count": 3,
   "metadata": {},
   "outputs": [
    {
     "name": "stdout",
     "output_type": "stream",
     "text": [
      "Categoria : Rápido\n"
     ]
    }
   ],
   "source": [
    "import sys\n",
    "import os\n",
    "\n",
    "# Agrega el directorio raíz \"Entregas\" al path\n",
    "sys.path.append(os.path.abspath(os.path.join(os.getcwd(), \"..\")))\n",
    "import src.functions as funct\n",
    "\n",
    "\n",
    "vel = int(input(\"Ingrese su velocidad de reaccion en MS : \"))\n",
    "if funct.cat_vel(vel) == 1:\n",
    "    print(\"Categoria : Rápido\")\n",
    "elif funct.cat_vel(vel) == 2:\n",
    "    print(\"Categoria : Normal\")\n",
    "elif funct.cat_vel(vel) == 3:\n",
    "    print(\"Categoria : Lento\")"
   ]
  }
 ],
 "metadata": {
  "kernelspec": {
   "display_name": "Python 3",
   "language": "python",
   "name": "python3"
  },
  "language_info": {
   "codemirror_mode": {
    "name": "ipython",
    "version": 3
   },
   "file_extension": ".py",
   "mimetype": "text/x-python",
   "name": "python",
   "nbconvert_exporter": "python",
   "pygments_lexer": "ipython3",
   "version": "3.12.9"
  }
 },
 "nbformat": 4,
 "nbformat_minor": 2
}
