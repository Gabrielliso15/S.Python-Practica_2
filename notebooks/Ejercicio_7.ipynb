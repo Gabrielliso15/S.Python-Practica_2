{
 "cells": [
  {
   "cell_type": "code",
   "execution_count": 5,
   "metadata": {},
   "outputs": [
    {
     "name": "stdout",
     "output_type": "stream",
     "text": [
      "El código de descuento es:  STREAMERPRO-20250331-SMMWBO06Z\n"
     ]
    }
   ],
   "source": [
    "import sys\n",
    "import os\n",
    "\n",
    "# Agrega el directorio raíz \"Entregas\" al path\n",
    "sys.path.append(os.path.abspath(os.path.join(os.getcwd(), \"..\")))\n",
    "import src.functions as funct\n",
    "\n",
    "ok = False\n",
    "while not ok:\n",
    "    nombre = input(\"Introduce tu nombre: \")\n",
    "    ok = funct.cumple_nombre(nombre)\n",
    "    if not ok:\n",
    "        print(\"El nombre no debe contener mas de 15 caracteres ni tener espacios!.\")\n",
    "\n",
    "print(\"El código de descuento es: \", funct.codigo_descuento(nombre))\n",
    "\n",
    "\n",
    "\n"
   ]
  }
 ],
 "metadata": {
  "kernelspec": {
   "display_name": "Python 3",
   "language": "python",
   "name": "python3"
  },
  "language_info": {
   "codemirror_mode": {
    "name": "ipython",
    "version": 3
   },
   "file_extension": ".py",
   "mimetype": "text/x-python",
   "name": "python",
   "nbconvert_exporter": "python",
   "pygments_lexer": "ipython3",
   "version": "3.12.9"
  }
 },
 "nbformat": 4,
 "nbformat_minor": 2
}
