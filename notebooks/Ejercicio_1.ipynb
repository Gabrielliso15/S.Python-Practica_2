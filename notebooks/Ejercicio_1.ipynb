{
 "cells": [
  {
   "cell_type": "code",
   "execution_count": 1,
   "metadata": {},
   "outputs": [
    {
     "name": "stdout",
     "output_type": "stream",
     "text": [
      "Beautiful is better than ugly.\n",
      "Explicit is better than implicit.\n",
      "Simple is better than complex.\n",
      "Complex is better than complicated.\n",
      "Flat is better than nested.\n",
      "Sparse is better than dense.\n",
      "Unless explicitly silenced.\n",
      "Now is better than never.\n",
      "Namespaces are one honking great idea -- let's do more of those!\n"
     ]
    }
   ],
   "source": [
    "import sys\n",
    "import os\n",
    "\n",
    "# Agrega el directorio raíz \"Entregas\" al path\n",
    "sys.path.append(os.path.abspath(os.path.join(os.getcwd(), \"..\")))\n",
    "import src.functions as funct\n",
    "\n",
    "zen_text = (\n",
    "    \"Beautiful is better than ugly.\\n\"\n",
    "    \"Explicit is better than implicit.\\n\"\n",
    "    \"Simple is better than complex.\\n\"\n",
    "    \"Complex is better than complicated.\\n\"\n",
    "    \"Flat is better than nested.\\n\"\n",
    "    \"Sparse is better than dense.\\n\"\n",
    "    \"Readability counts.\\n\"\n",
    "    \"Special cases aren't special enough to break the rules.\\n\"\n",
    "    \"Although practicality beats purity.\\n\"\n",
    "    \"Errors should never pass silently.\\n\"\n",
    "    \"Unless explicitly silenced.\\n\"\n",
    "    \"In the face of ambiguity, refuse the temptation to guess.\\n\"\n",
    "    \"There should be one-- and preferably only one --obvious way to do it.\\n\"\n",
    "    \"Although that way may not be obvious at first unless you're Dutch.\\n\"\n",
    "    \"Now is better than never.\\n\"\n",
    "    \"Although never is often better than *right* now.\\n\"\n",
    "    \"If the implementation is hard to explain, it's a bad idea.\\n\"\n",
    "    \"If the implementation is easy to explain, it may be a good idea.\\n\"\n",
    "    \"Namespaces are one honking great idea -- let's do more of those!\\n\"\n",
    ")\n",
    "\n",
    "for linea in zen_text.split(\"\\n\"):\n",
    "    if funct.Cumple(linea):\n",
    "        print(linea)\n"
   ]
  }
 ],
 "metadata": {
  "kernelspec": {
   "display_name": "Python 3",
   "language": "python",
   "name": "python3"
  },
  "language_info": {
   "codemirror_mode": {
    "name": "ipython",
    "version": 3
   },
   "file_extension": ".py",
   "mimetype": "text/x-python",
   "name": "python",
   "nbconvert_exporter": "python",
   "pygments_lexer": "ipython3",
   "version": "3.12.9"
  }
 },
 "nbformat": 4,
 "nbformat_minor": 2
}
