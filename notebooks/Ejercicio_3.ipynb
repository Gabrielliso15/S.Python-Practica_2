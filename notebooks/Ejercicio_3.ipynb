{
 "cells": [
  {
   "cell_type": "code",
   "execution_count": 10,
   "metadata": {},
   "outputs": [],
   "source": [
    "import sys\n",
    "import os\n",
    "\n",
    "# Agrega el directorio raíz \"Entregas\" al path\n",
    "sys.path.append(os.path.abspath(os.path.join(os.getcwd(), \"..\")))\n",
    "import src.functions as funct\n",
    "\n",
    "rules = \"\"\"Respeta a los demás. No se permiten insultos ni lenguaje\n",
    " ofensivo.\n",
    " Evita el spam. No publiques enlaces sospechosos o repetitivos.\n",
    " No compartas información personal.\n",
    " Usa los canales adecuados para cada tema.\n",
    " Sigue las instrucciones de los moderadores.\"\"\"\n",
    "\n",
    "\n",
    "clave = input(\"Ingrese una palabra clave : \")\n",
    "for linea in rules.splitlines():\n",
    "    if funct.Cumple3(linea, clave):\n",
    "        print(linea)"
   ]
  }
 ],
 "metadata": {
  "kernelspec": {
   "display_name": "Python 3",
   "language": "python",
   "name": "python3"
  },
  "language_info": {
   "codemirror_mode": {
    "name": "ipython",
    "version": 3
   },
   "file_extension": ".py",
   "mimetype": "text/x-python",
   "name": "python",
   "nbconvert_exporter": "python",
   "pygments_lexer": "ipython3",
   "version": "3.12.9"
  }
 },
 "nbformat": 4,
 "nbformat_minor": 2
}
