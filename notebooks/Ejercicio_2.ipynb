{
 "cells": [
  {
   "cell_type": "code",
   "execution_count": 1,
   "metadata": {},
   "outputs": [
    {
     "name": "stdout",
     "output_type": "stream",
     "text": [
      "El título con más palabras es: Jugando al nuevo FPS del momento con amigos\n"
     ]
    }
   ],
   "source": [
    "# Ejercicio 2\n",
    "\n",
    "titles = [\n",
    " \"Speedrun de Super Mario en tiempo récord\",\n",
    " \"Charla sobre desarrollo de videojuegos\",\n",
    " \"Jugando al nuevo FPS del momento con amigos\",\n",
    " \"Música en vivo: improvisaciones al piano\"\n",
    " ]\n",
    "\n",
    "masPalabras = int(0)\n",
    "tituloMasPalabras = str(\"\")\n",
    "for titulo in titles:\n",
    "    if len(titulo.split()) > masPalabras:\n",
    "        masPalabras = len(titulo.split())\n",
    "        tituloMasPalabras = titulo\n",
    "print(f\"El título con más palabras es: {tituloMasPalabras}\")"
   ]
  }
 ],
 "metadata": {
  "kernelspec": {
   "display_name": "Python 3",
   "language": "python",
   "name": "python3"
  },
  "language_info": {
   "codemirror_mode": {
    "name": "ipython",
    "version": 3
   },
   "file_extension": ".py",
   "mimetype": "text/x-python",
   "name": "python",
   "nbconvert_exporter": "python",
   "pygments_lexer": "ipython3",
   "version": "3.12.9"
  }
 },
 "nbformat": 4,
 "nbformat_minor": 2
}
