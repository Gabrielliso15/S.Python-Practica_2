{
 "cells": [
  {
   "cell_type": "code",
   "execution_count": null,
   "metadata": {},
   "outputs": [],
   "source": [
    "def son_anagramas (s1, s2):\n",
    "    s1 = s1.lower()\n",
    "    s2 = s2.lower()\n",
    "    s1 = sorted(s1)\n",
    "    s2 = sorted(s2)\n",
    "    if s1 == s2:\n",
    "        return True\n",
    "    else:\n",
    "        return False\n",
    "\n",
    "\n",
    "print('Escribe dos palabras para comprobar si son anagramas:')\n",
    "s1 = input('Palabra 1: ')\n",
    "s2 = input('Palabra 2: ')\n",
    "if son_anagramas(s1, s2):\n",
    "    print(f'{s1} y {s2} son anagramas')\n",
    "else:\n",
    "    print(f'{s1} y {s2} no son anagramas')"
   ]
  }
 ],
 "metadata": {
  "kernelspec": {
   "display_name": "Python 3",
   "language": "python",
   "name": "python3"
  },
  "language_info": {
   "codemirror_mode": {
    "name": "ipython",
    "version": 3
   },
   "file_extension": ".py",
   "mimetype": "text/x-python",
   "name": "python",
   "nbconvert_exporter": "python",
   "pygments_lexer": "ipython3",
   "version": "3.12.9"
  }
 },
 "nbformat": 4,
 "nbformat_minor": 2
}
