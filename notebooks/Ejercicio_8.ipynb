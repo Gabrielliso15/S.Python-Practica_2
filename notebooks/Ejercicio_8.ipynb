{
 "cells": [
  {
   "cell_type": "code",
   "execution_count": 6,
   "metadata": {},
   "outputs": [
    {
     "name": "stdout",
     "output_type": "stream",
     "text": [
      "Escribe dos palabras para comprobar si son anagramas:\n",
      "amor y python no son anagramas\n"
     ]
    }
   ],
   "source": [
    "import sys\n",
    "import os\n",
    "\n",
    "# Agrega el directorio raíz \"Entregas\" al path\n",
    "sys.path.append(os.path.abspath(os.path.join(os.getcwd(), \"..\")))\n",
    "import src.functions as funct\n",
    "\n",
    "print('Escribe dos palabras para comprobar si son anagramas:')\n",
    "s1 = input('Palabra 1: ')\n",
    "s2 = input('Palabra 2: ')\n",
    "if funct.son_anagramas(s1, s2):\n",
    "    print(f'{s1} y {s2} son anagramas')\n",
    "else:\n",
    "    print(f'{s1} y {s2} no son anagramas')"
   ]
  }
 ],
 "metadata": {
  "kernelspec": {
   "display_name": "Python 3",
   "language": "python",
   "name": "python3"
  },
  "language_info": {
   "codemirror_mode": {
    "name": "ipython",
    "version": 3
   },
   "file_extension": ".py",
   "mimetype": "text/x-python",
   "name": "python",
   "nbconvert_exporter": "python",
   "pygments_lexer": "ipython3",
   "version": "3.12.9"
  }
 },
 "nbformat": 4,
 "nbformat_minor": 2
}
