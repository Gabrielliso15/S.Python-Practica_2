{
 "cells": [
  {
   "cell_type": "code",
   "execution_count": 8,
   "metadata": {},
   "outputs": [
    {
     "name": "stdout",
     "output_type": "stream",
     "text": [
      "['Ana López', 'Pedro Gómez', 'Maria Martínez', 'Luis Rodríguez', 'Juan Pérez', 'Marta Suárez', 'María Martínez', 'Claudia Torres', 'Ricardo Fernández', 'Laura Ramos', 'Carlos Mendes', 'Alejandro González', 'Patricia Vega', 'Andrés Ocampo', 'Monica Herrera', 'Gabriela Ruíz', 'Sandra Morales', 'Miguel Ángel', 'Damián Castillo']\n"
     ]
    }
   ],
   "source": [
    "import sys\n",
    "import os\n",
    "\n",
    "# Agrega el directorio raíz \"Entregas\" al path\n",
    "sys.path.append(os.path.abspath(os.path.join(os.getcwd(), \"..\")))\n",
    "import src.functions as funct\n",
    "\n",
    "clients = [\n",
    " \"  Ana López \", \"Pedro Gómez\", \"maria martínez\", \"Pedro Gómez \", \"\",\n",
    " \" Luis Rodríguez \", None, \"ana lópez\", \"JUAN PÉREZ\", \"MARTA SUÁREZ\",\n",
    " \"luis rodríguez\", \"maría martínez \", \" claudia torres\", \"CLAUDIA TORRES\",\n",
    " \"  \", \"pedro gómez\", \"Juan Pérez\", None, \"Ricardo Fernández\", \"LAURA RAMOS\",\n",
    " \"carlos mendes\", \"RICARDO FERNÁNDEZ  \", \" Laura ramos\", \"CARLOS MENDES\",\n",
    " \"alejandro gonzález\", \" ALEJANDRO GONZÁLEZ  \", \"Patricia Vega\",\n",
    " \"patricia VEGA\", \"Andrés Ocampo\", \"  andrés ocampo\", \"Monica Herrera\",\n",
    " \"MONICA HERRERA  \", \"gabriela ruíz\", \"Gabriela Ruíz\", \"sandra morales\",\n",
    " \"SANDRA MORALES\", \"miguel ángel\", \"Miguel Ángel \", \" Damián Castillo\",\n",
    " \"Damián Castillo  \", None, \"\", \"  \"\n",
    " ]\n",
    "\n",
    "\n",
    "def Modificar_Lista(lista):\n",
    "    nueva_lista = []\n",
    "    for nombre in lista:\n",
    "        if nombre:\n",
    "            nombre1 = funct.Eliminar_Espacios(nombre).lower() # nombre sin espacios\n",
    "            nombre2 = funct.Primera_Mayuscula(nombre1) # nombre con mayúscula\n",
    "            if funct.Duplicado(nombre2, nueva_lista) == False and funct.Eliminar_Nulos(nombre2) == False:\n",
    "                # si no es duplicado y no es nulo lo agrega a la lista \n",
    "                nueva_lista.append(nombre2) \n",
    "             \n",
    "    return nueva_lista\n",
    "\n",
    "print (Modificar_Lista(clients))"
   ]
  }
 ],
 "metadata": {
  "kernelspec": {
   "display_name": "Python 3",
   "language": "python",
   "name": "python3"
  },
  "language_info": {
   "codemirror_mode": {
    "name": "ipython",
    "version": 3
   },
   "file_extension": ".py",
   "mimetype": "text/x-python",
   "name": "python",
   "nbconvert_exporter": "python",
   "pygments_lexer": "ipython3",
   "version": "3.12.9"
  }
 },
 "nbformat": 4,
 "nbformat_minor": 2
}
